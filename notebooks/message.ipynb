{
 "cells": [
  {
   "cell_type": "code",
   "execution_count": 1,
   "id": "43bc03ce-fe47-4a52-9c2d-c4e9de0d2cd7",
   "metadata": {},
   "outputs": [],
   "source": [
    "from time import sleep\n",
    "from json import dumps\n",
    "from kafka import KafkaProducer\n",
    "import json\n",
    "\n",
    "producer = KafkaProducer(bootstrap_servers=[\"b-1.batch6w7.6qsgnf.c19.kafka.us-east-1.amazonaws.com:9092\",\n",
    "                                                   \"b-2.batch6w7.6qsgnf.c19.kafka.us-east-1.amazonaws.com:9092\"],api_version = (0,10,1))"
   ]
  },
  {
   "cell_type": "code",
   "execution_count": 3,
   "id": "fd1fba66-3677-47b4-8d43-e6596bc0fa40",
   "metadata": {},
   "outputs": [
    {
     "name": "stdout",
     "output_type": "stream",
     "text": [
      "Amharic 0\n",
      "Amharic 1\n",
      "Amharic 2\n",
      "Amharic 3\n",
      "Amharic 4\n"
     ]
    }
   ],
   "source": [
    "for j in range(5):\n",
    "        print ('Amharic',j)\n",
    "        data={'Amharic':j}\n",
    "        producer.send('g4-amharic',json.dumps(data).encode('utf-8'))\n",
    "        sleep(0.5)"
   ]
  },
  {
   "cell_type": "code",
   "execution_count": null,
   "id": "2d81580f-9834-4846-b266-dc58a02a0edf",
   "metadata": {},
   "outputs": [],
   "source": []
  }
 ],
 "metadata": {
  "kernelspec": {
   "display_name": "Python 3 (ipykernel)",
   "language": "python",
   "name": "python3"
  },
  "language_info": {
   "codemirror_mode": {
    "name": "ipython",
    "version": 3
   },
   "file_extension": ".py",
   "mimetype": "text/x-python",
   "name": "python",
   "nbconvert_exporter": "python",
   "pygments_lexer": "ipython3",
   "version": "3.9.12"
  }
 },
 "nbformat": 4,
 "nbformat_minor": 5
}
