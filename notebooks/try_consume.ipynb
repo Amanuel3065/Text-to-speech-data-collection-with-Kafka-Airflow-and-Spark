{
 "cells": [
  {
   "cell_type": "code",
   "execution_count": 4,
   "id": "ba32387e-fb50-41ab-95e8-6ab21ab242bf",
   "metadata": {},
   "outputs": [],
   "source": [
    "from kafka import KafkaConsumer"
   ]
  },
  {
   "cell_type": "code",
   "execution_count": 5,
   "id": "bf0a1c26-28df-4cf2-b74a-f0c15348c114",
   "metadata": {},
   "outputs": [],
   "source": [
    "consumer = KafkaConsumer('g4_test_topic',\n",
    "                             client_id='d_id',\n",
    "                             bootstrap_servers=[\"b-1.batch6w7.6qsgnf.c19.kafka.us-east-1.amazonaws.com:9092\",\n",
    "                                                   \"b-2.batch6w7.6qsgnf.c19.kafka.us-east-1.amazonaws.com:9092\"],\n",
    "                             auto_offset_reset='earliest',\n",
    "                             enable_auto_commit=False,)"
   ]
  },
  {
   "cell_type": "code",
   "execution_count": 6,
   "id": "f4d3e2f1-e5b5-4442-b717-cd140925da57",
   "metadata": {},
   "outputs": [
    {
     "name": "stdout",
     "output_type": "stream",
     "text": [
      "{}\n"
     ]
    }
   ],
   "source": [
    "last_msg = consumer.poll(timeout_ms=100,max_records=1)\n",
    "print(last_msg)\n",
    "    "
   ]
  },
  {
   "cell_type": "code",
   "execution_count": null,
   "id": "293c8d1d-e24a-432c-ab02-795194ee1bd1",
   "metadata": {},
   "outputs": [],
   "source": []
  }
 ],
 "metadata": {
  "kernelspec": {
   "display_name": "Python 3 (ipykernel)",
   "language": "python",
   "name": "python3"
  },
  "language_info": {
   "codemirror_mode": {
    "name": "ipython",
    "version": 3
   },
   "file_extension": ".py",
   "mimetype": "text/x-python",
   "name": "python",
   "nbconvert_exporter": "python",
   "pygments_lexer": "ipython3",
   "version": "3.9.12"
  }
 },
 "nbformat": 4,
 "nbformat_minor": 5
}
